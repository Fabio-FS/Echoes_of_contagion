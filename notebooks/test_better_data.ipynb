{
  "cells": [
    {
      "cell_type": "code",
      "execution_count": 4,
      "metadata": {},
      "outputs": [
        {
          "name": "stdout",
          "output_type": "stream",
          "text": [
            "The autoreload extension is already loaded. To reload it, use:\n",
            "  %reload_ext autoreload\n"
          ]
        }
      ],
      "source": [
        "%load_ext autoreload\n",
        "%autoreload 2\n",
        "\n",
        "import sys\n",
        "import os\n",
        "sys.path.append('../src')\n",
        "import numpy as np\n",
        "import matplotlib.pyplot as plt\n",
        "from simulation.simulation import *"
      ]
    },
    {
      "cell_type": "code",
      "execution_count": null,
      "metadata": {},
      "outputs": [
        {
          "name": "stdout",
          "output_type": "stream",
          "text": [
            "Running replica 1/1\n"
          ]
        },
        {
          "ename": "KeyError",
          "evalue": "'N_steps'",
          "output_type": "error",
          "traceback": [
            "\u001b[1;31m---------------------------------------------------------------------------\u001b[0m",
            "\u001b[1;31mKeyError\u001b[0m                                  Traceback (most recent call last)",
            "Cell \u001b[1;32mIn[5], line 19\u001b[0m\n\u001b[0;32m      1\u001b[0m parameters \u001b[38;5;241m=\u001b[39m {\n\u001b[0;32m      2\u001b[0m     \u001b[38;5;124m\"\u001b[39m\u001b[38;5;124mn_of_replicas\u001b[39m\u001b[38;5;124m\"\u001b[39m : \u001b[38;5;241m1\u001b[39m,\n\u001b[0;32m      3\u001b[0m     \u001b[38;5;124m\"\u001b[39m\u001b[38;5;124mn_humans\u001b[39m\u001b[38;5;124m\"\u001b[39m : \u001b[38;5;241m1000\u001b[39m,\n\u001b[1;32m   (...)\u001b[0m\n\u001b[0;32m     17\u001b[0m     \u001b[38;5;124m\"\u001b[39m\u001b[38;5;124mfeed_size\u001b[39m\u001b[38;5;124m\"\u001b[39m: \u001b[38;5;241m5\u001b[39m\n\u001b[0;32m     18\u001b[0m }\n\u001b[1;32m---> 19\u001b[0m RES \u001b[38;5;241m=\u001b[39m \u001b[43msimulations\u001b[49m\u001b[43m(\u001b[49m\u001b[43mparameters\u001b[49m\u001b[43m)\u001b[49m\n\u001b[0;32m     20\u001b[0m \u001b[38;5;66;03m# save the results\u001b[39;00m\n",
            "File \u001b[1;32mc:\\Users\\nel_t\\Documents\\WORK\\PROJECTS\\Boosting Bots\\notebooks\\../src\\simulation\\simulation.py:17\u001b[0m, in \u001b[0;36msimulations\u001b[1;34m(param)\u001b[0m\n\u001b[0;32m     15\u001b[0m \u001b[38;5;28;01mfor\u001b[39;00m i \u001b[38;5;129;01min\u001b[39;00m \u001b[38;5;28mrange\u001b[39m(param[\u001b[38;5;124m\"\u001b[39m\u001b[38;5;124mn_of_replicas\u001b[39m\u001b[38;5;124m\"\u001b[39m]):\n\u001b[0;32m     16\u001b[0m     \u001b[38;5;28mprint\u001b[39m(\u001b[38;5;124mf\u001b[39m\u001b[38;5;124m\"\u001b[39m\u001b[38;5;124mRunning replica \u001b[39m\u001b[38;5;132;01m{\u001b[39;00mi\u001b[38;5;241m+\u001b[39m\u001b[38;5;241m1\u001b[39m\u001b[38;5;132;01m}\u001b[39;00m\u001b[38;5;124m/\u001b[39m\u001b[38;5;132;01m{\u001b[39;00mparam[\u001b[38;5;124m'\u001b[39m\u001b[38;5;124mn_of_replicas\u001b[39m\u001b[38;5;124m'\u001b[39m]\u001b[38;5;132;01m}\u001b[39;00m\u001b[38;5;124m\"\u001b[39m)\n\u001b[1;32m---> 17\u001b[0m     RES \u001b[38;5;241m=\u001b[39m \u001b[43msingle_simulations_arrays\u001b[49m\u001b[43m(\u001b[49m\u001b[43mparam\u001b[49m\u001b[43m)\u001b[49m\n\u001b[0;32m     18\u001b[0m     all_results\u001b[38;5;241m.\u001b[39mappend(RES)\n\u001b[0;32m     19\u001b[0m \u001b[38;5;28;01mreturn\u001b[39;00m all_results\n",
            "File \u001b[1;32mc:\\Users\\nel_t\\Documents\\WORK\\PROJECTS\\Boosting Bots\\notebooks\\../src\\simulation\\simulation.py:26\u001b[0m, in \u001b[0;36msingle_simulations_arrays\u001b[1;34m(param)\u001b[0m\n\u001b[0;32m     24\u001b[0m g \u001b[38;5;241m=\u001b[39m initialize_system(param)\n\u001b[0;32m     25\u001b[0m post_values, post_upvotes, post_readers \u001b[38;5;241m=\u001b[39m initialize_posts_arrays(g)\n\u001b[1;32m---> 26\u001b[0m RES \u001b[38;5;241m=\u001b[39m \u001b[43minitialize_results\u001b[49m\u001b[43m(\u001b[49m\u001b[43mg\u001b[49m\u001b[43m,\u001b[49m\u001b[43m \u001b[49m\u001b[43mparam\u001b[49m\u001b[43m)\u001b[49m\n\u001b[0;32m     28\u001b[0m \u001b[38;5;28;01mfor\u001b[39;00m step \u001b[38;5;129;01min\u001b[39;00m \u001b[38;5;28mrange\u001b[39m(param[\u001b[38;5;124m\"\u001b[39m\u001b[38;5;124mN_steps\u001b[39m\u001b[38;5;124m\"\u001b[39m]):\n\u001b[0;32m     29\u001b[0m     opinion_dynamic_step_arrays(g, post_values, post_upvotes, post_readers, step)\n",
            "File \u001b[1;32mc:\\Users\\nel_t\\Documents\\WORK\\PROJECTS\\Boosting Bots\\notebooks\\../src\\simulation\\simulation.py:40\u001b[0m, in \u001b[0;36minitialize_results\u001b[1;34m(g, param)\u001b[0m\n\u001b[0;32m     38\u001b[0m \u001b[38;5;28;01mdef\u001b[39;00m \u001b[38;5;21minitialize_results\u001b[39m(g, param):\n\u001b[0;32m     39\u001b[0m     n_opinion_samples \u001b[38;5;241m=\u001b[39m param\u001b[38;5;241m.\u001b[39mget(\u001b[38;5;124m\"\u001b[39m\u001b[38;5;124mn_opinion_samples\u001b[39m\u001b[38;5;124m\"\u001b[39m, \u001b[38;5;241m300\u001b[39m)  \u001b[38;5;66;03m# Default 200 samples\u001b[39;00m\n\u001b[1;32m---> 40\u001b[0m     save_steps \u001b[38;5;241m=\u001b[39m get_log_sample_steps(\u001b[43mparam\u001b[49m\u001b[43m[\u001b[49m\u001b[38;5;124;43m\"\u001b[39;49m\u001b[38;5;124;43mN_steps\u001b[39;49m\u001b[38;5;124;43m\"\u001b[39;49m\u001b[43m]\u001b[49m, n_opinion_samples)\n\u001b[0;32m     41\u001b[0m     n_saves \u001b[38;5;241m=\u001b[39m \u001b[38;5;28mlen\u001b[39m(save_steps)\n\u001b[0;32m     42\u001b[0m         \u001b[38;5;66;03m# Precompute mapping for faster lookup\u001b[39;00m\n",
            "\u001b[1;31mKeyError\u001b[0m: 'N_steps'"
          ]
        }
      ],
      "source": [
        "parameters = {\n",
        "    \"n_of_replicas\" : 1,\n",
        "    \"n_humans\" : 1000,\n",
        "    \"n_bots\" : 50,\n",
        "    \"nei\" : 6,\n",
        "    \"p\" : 0.05,\n",
        "    \"N_steps\" : 100,\n",
        "    \"waiting_time\" : 50,\n",
        "    \"mu\" : 0.075,\n",
        "    \"epsilon\": 0.3,\n",
        "    \"bot_threshold\" : -0.5,\n",
        "    \"beta0\" : 0.0125*4,\n",
        "    \"recovery_rate\" : 0.025*4,\n",
        "    \"I0\" : 1,\n",
        "    \"communication_error\" : 0.2,\n",
        "    \"post_history\": 10,\n",
        "    \"feed_size\": 5\n",
        "}\n",
        "RES = simulations(parameters)\n",
        "# save the results"
      ]
    },
    {
      "cell_type": "code",
      "execution_count": null,
      "metadata": {},
      "outputs": [],
      "source": []
    }
  ],
  "metadata": {
    "kernelspec": {
      "display_name": "networks",
      "language": "python",
      "name": "python3"
    },
    "language_info": {
      "codemirror_mode": {
        "name": "ipython",
        "version": 3
      },
      "file_extension": ".py",
      "mimetype": "text/x-python",
      "name": "python",
      "nbconvert_exporter": "python",
      "pygments_lexer": "ipython3",
      "version": "3.11.9"
    }
  },
  "nbformat": 4,
  "nbformat_minor": 2
}
