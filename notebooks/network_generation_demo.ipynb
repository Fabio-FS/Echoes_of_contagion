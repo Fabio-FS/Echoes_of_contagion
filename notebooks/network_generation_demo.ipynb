{
  "cells": [
    {
      "cell_type": "code",
      "execution_count": 1,
      "metadata": {},
      "outputs": [],
      "source": [
        "%load_ext autoreload\n",
        "%autoreload 2\n",
        "\n",
        "import sys\n",
        "import os\n",
        "sys.path.append('../src')\n",
        "import numpy as np\n",
        "import matplotlib.pyplot as plt\n",
        "from network_generator_BU_Post_is_a_class import *\n",
        "from network_visualization import *\n",
        "from observables_plot import *"
      ]
    },
    {
      "cell_type": "code",
      "execution_count": 5,
      "metadata": {},
      "outputs": [],
      "source": [
        "parameters = {\n",
        "    \"n_of_replicas\" : 4,\n",
        "    # general network\n",
        "    \"n_humans\" : 100,\n",
        "    \"n_bots\" : 10,\n",
        "    \"nei\" : 6,\n",
        "    \"p\" : 0.05,\n",
        "    \"N_steps\" : 1000,\n",
        "    \"mu\" : 0.1,\n",
        "    \"epsilon\": 0.3,\n",
        "    \"bot_threshold\" : -0.5,\n",
        "    \"beta0\" : 0.0125,\n",
        "    \"recovery_rate\" : 0.025,\n",
        "    \"I0\" : 2,\n",
        "    \"communication_error\" : 0.001,\n",
        "    \"post_history\": 10,                 # Timesteps to keep in memory\n",
        "    \"feed_size\": 5                      # Posts shown to each user\n",
        "}"
      ]
    },
    {
      "cell_type": "code",
      "execution_count": 6,
      "metadata": {},
      "outputs": [
        {
          "name": "stdout",
          "output_type": "stream",
          "text": [
            "Running replica 1/4\n",
            "Running replica 2/4\n",
            "Running replica 3/4\n",
            "Running replica 4/4\n",
            " "
          ]
        },
        {
          "name": "stdout",
          "output_type": "stream",
          "text": [
            "         22459433 function calls in 64.274 seconds\n",
            "\n",
            "   Ordered by: cumulative time\n",
            "   List reduced from 126 to 40 due to restriction <40>\n",
            "\n",
            "   ncalls  tottime  percall  cumtime  percall filename:lineno(function)\n",
            "        1    0.000    0.000   64.274   64.274 {built-in method builtins.exec}\n",
            "        1    0.000    0.000   64.274   64.274 <string>:1(<module>)\n",
            "        1    0.005    0.005   64.274   64.274 network_generator_BU_Post_is_a_class.py:42(simulations)\n",
            "        4    0.182    0.045   64.267   16.067 network_generator_BU_Post_is_a_class.py:50(single_simulations)\n",
            "     4000    0.125    0.000   57.895    0.014 network_generator_BU_Post_is_a_class.py:190(opinion_dynamic_step)\n",
            "     4000   12.739    0.003   39.844    0.010 network_generator_BU_Post_is_a_class.py:207(select_posts)\n",
            "   440000   13.846    0.000   13.846    0.000 network_generator_BU_Post_is_a_class.py:224(<listcomp>)\n",
            "     4000    5.585    0.001    7.835    0.002 network_generator_BU_Post_is_a_class.py:291(upvotes)\n",
            "     4000    5.528    0.001    7.579    0.002 network_generator_BU_Post_is_a_class.py:269(update_beliefs)\n",
            "     1996    0.033    0.000    3.667    0.002 network_generator_BU_Post_is_a_class.py:318(disease_dynamic_step)\n",
            "   440000    0.696    0.000    3.511    0.000 fromnumeric.py:1025(argsort)\n",
            "   451214    3.486    0.000    3.486    0.000 {built-in method numpy.array}\n",
            "     1996    1.913    0.001    3.166    0.002 network_generator_BU_Post_is_a_class.py:342(run_SIR_step)\n",
            "   440000    2.972    0.000    2.972    0.000 network_generator_BU_Post_is_a_class.py:229(<listcomp>)\n",
            "   440004    0.611    0.000    2.816    0.000 fromnumeric.py:53(_wrapfunc)\n",
            "  4200000    1.750    0.000    2.708    0.000 network_generator_BU_Post_is_a_class.py:39(mark_as_read)\n",
            "     4000    1.271    0.000    2.512    0.001 network_generator_BU_Post_is_a_class.py:196(generate_posts)\n",
            "     4000    0.553    0.000    2.469    0.001 network_generator_BU_Post_is_a_class.py:396(update_RES)\n",
            "   440000    2.018    0.000    2.018    0.000 {method 'argsort' of 'numpy.ndarray' objects}\n",
            "  2247677    1.570    0.000    1.571    0.000 __init__.py:585(vs)\n",
            "   440000    1.380    0.000    1.380    0.000 network_generator_BU_Post_is_a_class.py:231(<listcomp>)\n",
            "    83401    0.238    0.000    1.193    0.000 fromnumeric.py:2177(sum)\n",
            "     4000    0.067    0.000    0.975    0.000 fromnumeric.py:3654(var)\n",
            "  4200000    0.958    0.000    0.958    0.000 {method 'add' of 'set' objects}\n",
            "    83445    0.274    0.000    0.914    0.000 fromnumeric.py:71(_wrapreduction)\n",
            "     4000    0.526    0.000    0.908    0.000 _methods.py:135(_var)\n",
            "   440000    0.879    0.000    0.879    0.000 {method 'flatten' of 'numpy.ndarray' objects}\n",
            "     4000    0.697    0.000    0.811    0.000 numeric.py:1129(roll)\n",
            "     4004    0.153    0.000    0.706    0.000 fromnumeric.py:3385(mean)\n",
            "    95449    0.695    0.000    0.695    0.000 {method 'reduce' of 'numpy.ufunc' objects}\n",
            "     4004    0.198    0.000    0.553    0.000 _methods.py:101(_mean)\n",
            "  4000000    0.470    0.000    0.470    0.000 {built-in method builtins.abs}\n",
            "     1996    0.401    0.000    0.468    0.000 network_generator_BU_Post_is_a_class.py:323(update_susceptibilities)\n",
            "  1332020    0.451    0.000    0.451    0.000 {built-in method builtins.len}\n",
            "     4000    0.256    0.000    0.256    0.000 {method 'normal' of 'numpy.random.mtrand.RandomState' objects}\n",
            "   851507    0.247    0.000    0.247    0.000 network_generator_BU_Post_is_a_class.py:36(upvote)\n",
            "   444048    0.202    0.000    0.202    0.000 {built-in method builtins.getattr}\n",
            "     8004    0.156    0.000    0.171    0.000 _methods.py:67(_count_reduce_items)\n",
            "   404000    0.167    0.000    0.168    0.000 network_generator_BU_Post_is_a_class.py:31(__init__)\n",
            "     4000    0.061    0.000    0.128    0.000 contextlib.py:299(helper)"
          ]
        }
      ],
      "source": [
        "%%prun -s cumulative -l 40\n",
        "\n",
        "all_results = simulations(parameters)"
      ]
    },
    {
      "cell_type": "code",
      "execution_count": null,
      "metadata": {},
      "outputs": [],
      "source": []
    }
  ],
  "metadata": {
    "kernelspec": {
      "display_name": "networks",
      "language": "python",
      "name": "python3"
    },
    "language_info": {
      "codemirror_mode": {
        "name": "ipython",
        "version": 3
      },
      "file_extension": ".py",
      "mimetype": "text/x-python",
      "name": "python",
      "nbconvert_exporter": "python",
      "pygments_lexer": "ipython3",
      "version": "3.11.9"
    }
  },
  "nbformat": 4,
  "nbformat_minor": 2
}
